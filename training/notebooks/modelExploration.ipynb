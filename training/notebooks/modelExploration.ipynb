{
 "cells": [
  {
   "cell_type": "code",
   "execution_count": 6,
   "metadata": {},
   "outputs": [
    {
     "name": "stdout",
     "output_type": "stream",
     "text": [
      "The autoreload extension is already loaded. To reload it, use:\n",
      "  %reload_ext autoreload\n",
      "Already initialized\n"
     ]
    }
   ],
   "source": [
    "%load_ext autoreload\n",
    "%autoreload 2\n",
    "import tensorflow as tf\n",
    "import numpy as np\n",
    "import pandas as pd\n",
    "\n",
    "np.random.seed(42)\n",
    "try:\n",
    "    device_list = tf.config.get_visible_devices()\n",
    "    tf.config.set_visible_devices(device_list[::2])\n",
    "except Exception:\n",
    "    print(\"Already initialized\")\n",
    "    pass\n",
    "\n",
    "from datahelper.models.patch_network import PatchNet, OnlyPatches\n",
    "from datahelper.datasets.records import DrivingRecord, CenterDrivingRecord\n",
    "from datahelper.process.preprocessing import import_driving_log, find_records\n",
    "\n"
   ]
  },
  {
   "cell_type": "code",
   "execution_count": 2,
   "metadata": {},
   "outputs": [],
   "source": [
    "DATA_PATH = \"/home/mattr/Desktop/udacity/CarND-Behavioral-Cloning-P3/training/data/\"\n",
    "DRIVING_FOLDERS = {'easy': 'drivingData', 'hard': 'drivingDataHard', 'john': 'johnsDrivingData'}"
   ]
  },
  {
   "cell_type": "code",
   "execution_count": 3,
   "metadata": {},
   "outputs": [
    {
     "name": "stdout",
     "output_type": "stream",
     "text": [
      "3933\n"
     ]
    },
    {
     "data": {
      "text/html": [
       "<div>\n",
       "<style scoped>\n",
       "    .dataframe tbody tr th:only-of-type {\n",
       "        vertical-align: middle;\n",
       "    }\n",
       "\n",
       "    .dataframe tbody tr th {\n",
       "        vertical-align: top;\n",
       "    }\n",
       "\n",
       "    .dataframe thead th {\n",
       "        text-align: right;\n",
       "    }\n",
       "</style>\n",
       "<table border=\"1\" class=\"dataframe\">\n",
       "  <thead>\n",
       "    <tr style=\"text-align: right;\">\n",
       "      <th></th>\n",
       "      <th>center_img</th>\n",
       "      <th>left_img</th>\n",
       "      <th>right_img</th>\n",
       "      <th>steering_angle</th>\n",
       "      <th>throttle</th>\n",
       "      <th>brake</th>\n",
       "      <th>speed</th>\n",
       "    </tr>\n",
       "  </thead>\n",
       "  <tbody>\n",
       "    <tr>\n",
       "      <th>0</th>\n",
       "      <td>/home/mattr/Desktop/udacity/CarND-Behavioral-C...</td>\n",
       "      <td>/home/mattr/Desktop/udacity/CarND-Behavioral-C...</td>\n",
       "      <td>/home/mattr/Desktop/udacity/CarND-Behavioral-C...</td>\n",
       "      <td>0.0</td>\n",
       "      <td>0.0</td>\n",
       "      <td>0.0</td>\n",
       "      <td>25.32430</td>\n",
       "    </tr>\n",
       "    <tr>\n",
       "      <th>1</th>\n",
       "      <td>/home/mattr/Desktop/udacity/CarND-Behavioral-C...</td>\n",
       "      <td>/home/mattr/Desktop/udacity/CarND-Behavioral-C...</td>\n",
       "      <td>/home/mattr/Desktop/udacity/CarND-Behavioral-C...</td>\n",
       "      <td>0.0</td>\n",
       "      <td>0.0</td>\n",
       "      <td>0.0</td>\n",
       "      <td>25.17072</td>\n",
       "    </tr>\n",
       "    <tr>\n",
       "      <th>2</th>\n",
       "      <td>/home/mattr/Desktop/udacity/CarND-Behavioral-C...</td>\n",
       "      <td>/home/mattr/Desktop/udacity/CarND-Behavioral-C...</td>\n",
       "      <td>/home/mattr/Desktop/udacity/CarND-Behavioral-C...</td>\n",
       "      <td>0.0</td>\n",
       "      <td>0.0</td>\n",
       "      <td>0.0</td>\n",
       "      <td>24.96740</td>\n",
       "    </tr>\n",
       "  </tbody>\n",
       "</table>\n",
       "</div>"
      ],
      "text/plain": [
       "                                          center_img  \\\n",
       "0  /home/mattr/Desktop/udacity/CarND-Behavioral-C...   \n",
       "1  /home/mattr/Desktop/udacity/CarND-Behavioral-C...   \n",
       "2  /home/mattr/Desktop/udacity/CarND-Behavioral-C...   \n",
       "\n",
       "                                            left_img  \\\n",
       "0  /home/mattr/Desktop/udacity/CarND-Behavioral-C...   \n",
       "1  /home/mattr/Desktop/udacity/CarND-Behavioral-C...   \n",
       "2  /home/mattr/Desktop/udacity/CarND-Behavioral-C...   \n",
       "\n",
       "                                           right_img  steering_angle  \\\n",
       "0  /home/mattr/Desktop/udacity/CarND-Behavioral-C...             0.0   \n",
       "1  /home/mattr/Desktop/udacity/CarND-Behavioral-C...             0.0   \n",
       "2  /home/mattr/Desktop/udacity/CarND-Behavioral-C...             0.0   \n",
       "\n",
       "   throttle  brake     speed  \n",
       "0       0.0    0.0  25.32430  \n",
       "1       0.0    0.0  25.17072  \n",
       "2       0.0    0.0  24.96740  "
      ]
     },
     "execution_count": 3,
     "metadata": {},
     "output_type": "execute_result"
    }
   ],
   "source": [
    "easy_driving_df = import_driving_log(DATA_PATH+DRIVING_FOLDERS['easy']+\"/driving_log.csv\", DATA_PATH)\n",
    "print(len(easy_driving_df))\n",
    "easy_driving_df.head(3)"
   ]
  },
  {
   "cell_type": "code",
   "execution_count": 4,
   "metadata": {},
   "outputs": [],
   "source": [
    "easy_record = CenterDrivingRecord(easy_driving_df)"
   ]
  },
  {
   "cell_type": "code",
   "execution_count": 5,
   "metadata": {},
   "outputs": [
    {
     "data": {
      "text/plain": [
       "<matplotlib.image.AxesImage at 0x7f2ce031d7f0>"
      ]
     },
     "execution_count": 5,
     "metadata": {},
     "output_type": "execute_result"
    },
    {
     "data": {
      "image/png": "[encoded data removed]",
      "text/plain": [
       "<Figure size 432x288 with 1 Axes>"
      ]
     },
     "metadata": {
      "needs_background": "light"
     },
     "output_type": "display_data"
    }
   ],
   "source": [
    "import matplotlib.pyplot as plt\n",
    "\n",
    "plt.imshow(easy_record[0][0])"
   ]
  },
  {
   "cell_type": "code",
   "execution_count": 29,
   "metadata": {},
   "outputs": [],
   "source": [
    "mynet = OnlyPatches(512, 3, kernel_size=5, n_classes=1)"
   ]
  },
  {
   "cell_type": "code",
   "execution_count": 30,
   "metadata": {},
   "outputs": [
    {
     "name": "stdout",
     "output_type": "stream",
     "text": [
      "Model: \"only_patches_6\"\n",
      "_________________________________________________________________\n",
      "Layer (type)                 Output Shape              Param #   \n",
      "=================================================================\n",
      "conv2d_25 (Conv2D)           multiple                  614912    \n",
      "_________________________________________________________________\n",
      "activation_44 (Activation)   multiple                  0         \n",
      "_________________________________________________________________\n",
      "batch_normalization_44 (Batc multiple                  2048      \n",
      "_________________________________________________________________\n",
      "sequential_5 (Sequential)    (1, 5, 16, 512)           840192    \n",
      "_________________________________________________________________\n",
      "global_average_pooling2d_5 ( multiple                  0         \n",
      "_________________________________________________________________\n",
      "dense_5 (Dense)              multiple                  513       \n",
      "=================================================================\n",
      "Total params: 1,457,665\n",
      "Trainable params: 1,450,497\n",
      "Non-trainable params: 7,168\n",
      "_________________________________________________________________\n"
     ]
    }
   ],
   "source": [
    "mynet(easy_record[0:1][0])\n",
    "mynet.summary()"
   ]
  },
  {
   "cell_type": "code",
   "execution_count": 31,
   "metadata": {},
   "outputs": [
    {
     "data": {
      "text/plain": [
       "<tf.Tensor: shape=(2, 1), dtype=float32, numpy=\n",
       "array([[-0.00096508],\n",
       "       [-0.00089647]], dtype=float32)>"
      ]
     },
     "execution_count": 31,
     "metadata": {},
     "output_type": "execute_result"
    }
   ],
   "source": [
    "mynet(easy_record[0:2][0])"
   ]
  },
  {
   "cell_type": "code",
   "execution_count": 13,
   "metadata": {},
   "outputs": [],
   "source": [
    "inputs, targets, _, _ = easy_record[:]\n"
   ]
  },
  {
   "cell_type": "code",
   "execution_count": 34,
   "metadata": {},
   "outputs": [],
   "source": [
    "targets = targets[:, 1]"
   ]
  },
  {
   "cell_type": "code",
   "execution_count": 36,
   "metadata": {},
   "outputs": [
    {
     "data": {
      "text/plain": [
       "array([0., 0., 0., ..., 0., 0., 0.], dtype=float32)"
      ]
     },
     "execution_count": 36,
     "metadata": {},
     "output_type": "execute_result"
    }
   ],
   "source": [
    "targets"
   ]
  },
  {
   "cell_type": "code",
   "execution_count": 40,
   "metadata": {},
   "outputs": [
    {
     "name": "stdout",
     "output_type": "stream",
     "text": [
      "\u001b[0;31mInit signature:\u001b[0m \u001b[0mtf\u001b[0m\u001b[0;34m.\u001b[0m\u001b[0mkeras\u001b[0m\u001b[0;34m.\u001b[0m\u001b[0mlosses\u001b[0m\u001b[0;34m.\u001b[0m\u001b[0mHuber\u001b[0m\u001b[0;34m(\u001b[0m\u001b[0mdelta\u001b[0m\u001b[0;34m=\u001b[0m\u001b[0;36m1.0\u001b[0m\u001b[0;34m,\u001b[0m \u001b[0mreduction\u001b[0m\u001b[0;34m=\u001b[0m\u001b[0;34m'auto'\u001b[0m\u001b[0;34m,\u001b[0m \u001b[0mname\u001b[0m\u001b[0;34m=\u001b[0m\u001b[0;34m'huber_loss'\u001b[0m\u001b[0;34m)\u001b[0m\u001b[0;34m\u001b[0m\u001b[0;34m\u001b[0m\u001b[0m\n",
      "\u001b[0;31mDocstring:\u001b[0m     \n",
      "Computes the Huber loss between `y_true` and `y_pred`.\n",
      "\n",
      "For each value x in `error = y_true - y_pred`:\n",
      "\n",
      "```\n",
      "loss = 0.5 * x^2                  if |x| <= d\n",
      "loss = 0.5 * d^2 + d * (|x| - d)  if |x| > d\n",
      "```\n",
      "where d is `delta`. See: https://en.wikipedia.org/wiki/Huber_loss\n",
      "\n",
      "Standalone usage:\n",
      "\n",
      ">>> y_true = [[0, 1], [0, 0]]\n",
      ">>> y_pred = [[0.6, 0.4], [0.4, 0.6]]\n",
      ">>> # Using 'auto'/'sum_over_batch_size' reduction type.\n",
      ">>> h = tf.keras.losses.Huber()\n",
      ">>> h(y_true, y_pred).numpy()\n",
      "0.155\n",
      "\n",
      ">>> # Calling with 'sample_weight'.\n",
      ">>> h(y_true, y_pred, sample_weight=[1, 0]).numpy()\n",
      "0.09\n",
      "\n",
      ">>> # Using 'sum' reduction type.\n",
      ">>> h = tf.keras.losses.Huber(\n",
      "...     reduction=tf.keras.losses.Reduction.SUM)\n",
      ">>> h(y_true, y_pred).numpy()\n",
      "0.31\n",
      "\n",
      ">>> # Using 'none' reduction type.\n",
      ">>> h = tf.keras.losses.Huber(\n",
      "...     reduction=tf.keras.losses.Reduction.NONE)\n",
      ">>> h(y_true, y_pred).numpy()\n",
      "array([0.18, 0.13], dtype=float32)\n",
      "\n",
      "Usage with the `compile()` API:\n",
      "\n",
      "```python\n",
      "model.compile(optimizer='sgd', loss=tf.keras.losses.Huber())\n",
      "```\n",
      "\u001b[0;31mInit docstring:\u001b[0m\n",
      "Initializes `Huber` instance.\n",
      "\n",
      "Args:\n",
      "  delta: A float, the point where the Huber loss function changes from a\n",
      "    quadratic to linear.\n",
      "  reduction: Type of `tf.keras.losses.Reduction` to apply to\n",
      "    loss. Default value is `AUTO`. `AUTO` indicates that the reduction\n",
      "    option will be determined by the usage context. For almost all cases\n",
      "    this defaults to `SUM_OVER_BATCH_SIZE`. When used with\n",
      "    `tf.distribute.Strategy`, outside of built-in training loops such as\n",
      "    `tf.keras` `compile` and `fit`, using `AUTO` or `SUM_OVER_BATCH_SIZE`\n",
      "    will raise an error. Please see this custom training [tutorial](\n",
      "      https://www.tensorflow.org/tutorials/distribute/custom_training) for\n",
      "        more details.\n",
      "  name: Optional name for the instance. Defaults to 'huber_loss'.\n",
      "\u001b[0;31mFile:\u001b[0m           ~/miniconda3/envs/carnd-term1/lib/python3.9/site-packages/keras/losses.py\n",
      "\u001b[0;31mType:\u001b[0m           type\n",
      "\u001b[0;31mSubclasses:\u001b[0m     \n"
     ]
    }
   ],
   "source": [
    "tf.keras.losses.Huber?"
   ]
  },
  {
   "cell_type": "code",
   "execution_count": 80,
   "metadata": {},
   "outputs": [],
   "source": [
    "mynet.compile(loss=sign_loss, optimizer=tf.keras.optimizers.Adamax(learning_rate=5e-3), metrics=['mae'])"
   ]
  },
  {
   "cell_type": "code",
   "execution_count": 81,
   "metadata": {},
   "outputs": [
    {
     "name": "stdout",
     "output_type": "stream",
     "text": [
      "Epoch 1/50\n",
      "123/123 [==============================] - 2s 10ms/step - loss: 0.1117 - mae: 0.0526\n",
      "Epoch 2/50\n",
      "123/123 [==============================] - 1s 10ms/step - loss: 0.0906 - mae: 0.0435\n",
      "Epoch 3/50\n",
      "123/123 [==============================] - 1s 10ms/step - loss: 0.0832 - mae: 0.0401\n",
      "Epoch 4/50\n",
      "123/123 [==============================] - 1s 10ms/step - loss: 0.0855 - mae: 0.0407\n",
      "Epoch 5/50\n",
      "123/123 [==============================] - 1s 10ms/step - loss: 0.0900 - mae: 0.0437\n",
      "Epoch 6/50\n",
      "123/123 [==============================] - 1s 10ms/step - loss: 0.0735 - mae: 0.0364\n",
      "Epoch 7/50\n",
      "123/123 [==============================] - 1s 10ms/step - loss: 0.0820 - mae: 0.0393\n",
      "Epoch 8/50\n",
      "123/123 [==============================] - 1s 10ms/step - loss: 0.0822 - mae: 0.0398\n",
      "Epoch 9/50\n",
      "123/123 [==============================] - 1s 10ms/step - loss: 0.0795 - mae: 0.0386\n",
      "Epoch 10/50\n",
      "123/123 [==============================] - 1s 10ms/step - loss: 0.0782 - mae: 0.0396\n",
      "Epoch 11/50\n",
      "123/123 [==============================] - 1s 10ms/step - loss: 0.0745 - mae: 0.0366\n",
      "Epoch 12/50\n",
      "123/123 [==============================] - 1s 10ms/step - loss: 0.0754 - mae: 0.0371\n",
      "Epoch 13/50\n",
      "123/123 [==============================] - 1s 10ms/step - loss: 0.0691 - mae: 0.0344\n",
      "Epoch 14/50\n",
      "123/123 [==============================] - 1s 10ms/step - loss: 0.0704 - mae: 0.0362\n",
      "Epoch 15/50\n",
      "123/123 [==============================] - 1s 10ms/step - loss: 0.0759 - mae: 0.0377\n",
      "Epoch 16/50\n",
      "123/123 [==============================] - 1s 10ms/step - loss: 0.0781 - mae: 0.0381\n",
      "Epoch 17/50\n",
      "123/123 [==============================] - 1s 10ms/step - loss: 0.0706 - mae: 0.0355\n",
      "Epoch 18/50\n",
      "123/123 [==============================] - 1s 10ms/step - loss: 0.0725 - mae: 0.0352\n",
      "Epoch 19/50\n",
      "123/123 [==============================] - 1s 10ms/step - loss: 0.0747 - mae: 0.0373\n",
      "Epoch 20/50\n",
      "123/123 [==============================] - 1s 10ms/step - loss: 0.0719 - mae: 0.0355\n",
      "Epoch 21/50\n",
      "123/123 [==============================] - 1s 10ms/step - loss: 0.0691 - mae: 0.0360\n",
      "Epoch 22/50\n",
      "123/123 [==============================] - 1s 10ms/step - loss: 0.0687 - mae: 0.0346\n",
      "Epoch 23/50\n",
      "123/123 [==============================] - 1s 10ms/step - loss: 0.0670 - mae: 0.0346\n",
      "Epoch 24/50\n",
      "123/123 [==============================] - 1s 10ms/step - loss: 0.0693 - mae: 0.0348\n",
      "Epoch 25/50\n",
      "123/123 [==============================] - 1s 10ms/step - loss: 0.0725 - mae: 0.0368\n",
      "Epoch 26/50\n",
      "123/123 [==============================] - 1s 10ms/step - loss: 0.0715 - mae: 0.0358\n",
      "Epoch 27/50\n",
      "123/123 [==============================] - 1s 10ms/step - loss: 0.0722 - mae: 0.0366\n",
      "Epoch 28/50\n",
      "123/123 [==============================] - 1s 10ms/step - loss: 0.0726 - mae: 0.0361\n",
      "Epoch 29/50\n",
      "123/123 [==============================] - 1s 10ms/step - loss: 0.0627 - mae: 0.0332\n",
      "Epoch 30/50\n",
      "123/123 [==============================] - 1s 10ms/step - loss: 0.0630 - mae: 0.0323\n",
      "Epoch 31/50\n",
      "123/123 [==============================] - 1s 10ms/step - loss: 0.0698 - mae: 0.0343\n",
      "Epoch 32/50\n",
      "123/123 [==============================] - 1s 10ms/step - loss: 0.0696 - mae: 0.0357\n",
      "Epoch 33/50\n",
      "123/123 [==============================] - 1s 10ms/step - loss: 0.0718 - mae: 0.0371\n",
      "Epoch 34/50\n",
      "123/123 [==============================] - 1s 10ms/step - loss: 0.0672 - mae: 0.0342\n",
      "Epoch 35/50\n",
      "123/123 [==============================] - 1s 10ms/step - loss: 0.0714 - mae: 0.0357\n",
      "Epoch 36/50\n",
      "123/123 [==============================] - 1s 10ms/step - loss: 0.0618 - mae: 0.0321\n",
      "Epoch 37/50\n",
      "123/123 [==============================] - 1s 10ms/step - loss: 0.0736 - mae: 0.0366\n",
      "Epoch 38/50\n",
      "123/123 [==============================] - 1s 10ms/step - loss: 0.0712 - mae: 0.0353\n",
      "Epoch 39/50\n",
      "123/123 [==============================] - 1s 10ms/step - loss: 0.0652 - mae: 0.0331\n",
      "Epoch 40/50\n",
      "123/123 [==============================] - 1s 10ms/step - loss: 0.0648 - mae: 0.0327\n",
      "Epoch 41/50\n",
      "123/123 [==============================] - 1s 10ms/step - loss: 0.0693 - mae: 0.0341\n",
      "Epoch 42/50\n",
      "123/123 [==============================] - 1s 10ms/step - loss: 0.0635 - mae: 0.0328\n",
      "Epoch 43/50\n",
      "123/123 [==============================] - 1s 10ms/step - loss: 0.0631 - mae: 0.0326\n",
      "Epoch 44/50\n",
      "123/123 [==============================] - 1s 10ms/step - loss: 0.0597 - mae: 0.0307\n",
      "Epoch 45/50\n",
      "123/123 [==============================] - 1s 10ms/step - loss: 0.0618 - mae: 0.0322\n",
      "Epoch 46/50\n",
      "123/123 [==============================] - 1s 10ms/step - loss: 0.0658 - mae: 0.0322\n",
      "Epoch 47/50\n",
      "123/123 [==============================] - 1s 10ms/step - loss: 0.0634 - mae: 0.0322\n",
      "Epoch 48/50\n",
      "123/123 [==============================] - 1s 10ms/step - loss: 0.0620 - mae: 0.0318\n",
      "Epoch 49/50\n",
      "123/123 [==============================] - 1s 10ms/step - loss: 0.0609 - mae: 0.0317\n",
      "Epoch 50/50\n",
      "123/123 [==============================] - 1s 10ms/step - loss: 0.0614 - mae: 0.0317\n"
     ]
    }
   ],
   "source": [
    "history = mynet.fit(x=inputs, y=targets, epochs=50, batch_size=32)"
   ]
  },
  {
   "cell_type": "code",
   "execution_count": 82,
   "metadata": {},
   "outputs": [
    {
     "data": {
      "text/plain": [
       "[<matplotlib.lines.Line2D at 0x7f2c3057eb20>]"
      ]
     },
     "execution_count": 82,
     "metadata": {},
     "output_type": "execute_result"
    },
    {
     "data": {
      "image/png": "[encoded data removed]",
      "text/plain": [
       "<Figure size 432x288 with 1 Axes>"
      ]
     },
     "metadata": {
      "needs_background": "light"
     },
     "output_type": "display_data"
    }
   ],
   "source": [
    "plt.plot(history.history['loss'])"
   ]
  },
  {
   "cell_type": "code",
   "execution_count": 83,
   "metadata": {},
   "outputs": [
    {
     "data": {
      "text/plain": [
       "<tf.Tensor: shape=(20,), dtype=float32, numpy=\n",
       "array([0.24470201, 0.24470201, 0.24470201, 0.24470201, 0.0489404 ,\n",
       "       0.0489404 , 0.0489404 , 0.0489404 , 0.0489404 , 0.0489404 ,\n",
       "       0.0489404 , 0.0489404 , 0.0489404 , 0.0489404 , 0.0489404 ,\n",
       "       0.0489404 , 0.0489404 , 0.0489404 , 0.0489404 , 0.0489404 ],\n",
       "      dtype=float32)>"
      ]
     },
     "execution_count": 83,
     "metadata": {},
     "output_type": "execute_result"
    }
   ],
   "source": [
    "sign_loss(mynet(inputs[:20]).numpy().flatten(), tf.constant(targets[:20]))"
   ]
  },
  {
   "cell_type": "code",
   "execution_count": 88,
   "metadata": {},
   "outputs": [
    {
     "data": {
      "text/plain": [
       "array([ True,  True,  True,  True, False, False, False, False, False,\n",
       "       False, False, False, False, False, False, False, False, False,\n",
       "       False, False])"
      ]
     },
     "execution_count": 88,
     "metadata": {},
     "output_type": "execute_result"
    }
   ],
   "source": [
    "(mynet(inputs[:20]).numpy().flatten()*targets[:20])"
   ]
  },
  {
   "cell_type": "code",
   "execution_count": 85,
   "metadata": {},
   "outputs": [
    {
     "data": {
      "text/plain": [
       "array([ 0.        ,  0.        ,  0.        ,  0.        , -0.112782  ,\n",
       "       -0.3383459 , -0.4736842 , -0.5902256 , -0.6278195 , -0.6278195 ,\n",
       "       -0.537594  , -0.2556391 , -0.09398497,  0.2631579 ,  0.4285714 ,\n",
       "        0.4436091 ,  0.4436091 ,  0.4360902 ,  0.1541353 , -0.03759398],\n",
       "      dtype=float32)"
      ]
     },
     "execution_count": 85,
     "metadata": {},
     "output_type": "execute_result"
    }
   ],
   "source": [
    "targets[:20]"
   ]
  },
  {
   "cell_type": "code",
   "execution_count": 97,
   "metadata": {},
   "outputs": [],
   "source": [
    "tf.function\n",
    "def sign_loss(true_labels, prediction, l=5):\n",
    "    mae = tf.keras.losses.MeanAbsoluteError()\n",
    "    true_fn = l*mae(true_labels, prediction)-(l-1)*mae(true_labels, tf.zeros_like(true_labels))\n",
    "    false_fn = mae(true_labels, prediction)\n",
    "    func = tf.where(tf.less_equal(true_labels*prediction, tf.constant([0.0], dtype=tf.float32)), true_fn, false_fn)\n",
    "    return func\n",
    "    "
   ]
  },
  {
   "cell_type": "code",
   "execution_count": 103,
   "metadata": {},
   "outputs": [
    {
     "data": {
      "text/plain": [
       "[<matplotlib.lines.Line2D at 0x7f2c302d5d90>,\n",
       " <matplotlib.lines.Line2D at 0x7f2c302d5e80>,\n",
       " <matplotlib.lines.Line2D at 0x7f2c302d5e50>,\n",
       " <matplotlib.lines.Line2D at 0x7f2c302d5f40>,\n",
       " <matplotlib.lines.Line2D at 0x7f2c302c71c0>,\n",
       " <matplotlib.lines.Line2D at 0x7f2c302c7280>,\n",
       " <matplotlib.lines.Line2D at 0x7f2c302c7340>,\n",
       " <matplotlib.lines.Line2D at 0x7f2c302c7400>,\n",
       " <matplotlib.lines.Line2D at 0x7f2c302c74c0>,\n",
       " <matplotlib.lines.Line2D at 0x7f2c302c7580>,\n",
       " <matplotlib.lines.Line2D at 0x7f2c302ab880>,\n",
       " <matplotlib.lines.Line2D at 0x7f2c302c7640>,\n",
       " <matplotlib.lines.Line2D at 0x7f2c302c77f0>,\n",
       " <matplotlib.lines.Line2D at 0x7f2c302c7850>,\n",
       " <matplotlib.lines.Line2D at 0x7f2c302c7910>,\n",
       " <matplotlib.lines.Line2D at 0x7f2c302c7a00>,\n",
       " <matplotlib.lines.Line2D at 0x7f2c302c7ac0>,\n",
       " <matplotlib.lines.Line2D at 0x7f2c302c7b80>,\n",
       " <matplotlib.lines.Line2D at 0x7f2c302c7c40>,\n",
       " <matplotlib.lines.Line2D at 0x7f2c302c7d00>,\n",
       " <matplotlib.lines.Line2D at 0x7f2c302c7dc0>,\n",
       " <matplotlib.lines.Line2D at 0x7f2c302c7e80>,\n",
       " <matplotlib.lines.Line2D at 0x7f2c302c7f40>,\n",
       " <matplotlib.lines.Line2D at 0x7f2c302c70d0>,\n",
       " <matplotlib.lines.Line2D at 0x7f2c302c70a0>,\n",
       " <matplotlib.lines.Line2D at 0x7f2c302dc1c0>,\n",
       " <matplotlib.lines.Line2D at 0x7f2c302dc280>,\n",
       " <matplotlib.lines.Line2D at 0x7f2c302dc340>,\n",
       " <matplotlib.lines.Line2D at 0x7f2c302dc400>,\n",
       " <matplotlib.lines.Line2D at 0x7f2c302dc4c0>,\n",
       " <matplotlib.lines.Line2D at 0x7f2c302dc580>,\n",
       " <matplotlib.lines.Line2D at 0x7f2c302dc640>,\n",
       " <matplotlib.lines.Line2D at 0x7f2c302dc700>,\n",
       " <matplotlib.lines.Line2D at 0x7f2c302dc7c0>,\n",
       " <matplotlib.lines.Line2D at 0x7f2c302dc880>,\n",
       " <matplotlib.lines.Line2D at 0x7f2c302dc940>,\n",
       " <matplotlib.lines.Line2D at 0x7f2c302dca00>,\n",
       " <matplotlib.lines.Line2D at 0x7f2c302dcac0>,\n",
       " <matplotlib.lines.Line2D at 0x7f2c302dcb80>,\n",
       " <matplotlib.lines.Line2D at 0x7f2c302dcc40>,\n",
       " <matplotlib.lines.Line2D at 0x7f2c302dcd00>,\n",
       " <matplotlib.lines.Line2D at 0x7f2c302dcdc0>,\n",
       " <matplotlib.lines.Line2D at 0x7f2c302dce80>,\n",
       " <matplotlib.lines.Line2D at 0x7f2c302dcf40>,\n",
       " <matplotlib.lines.Line2D at 0x7f2c302dc100>,\n",
       " <matplotlib.lines.Line2D at 0x7f2c302dc0a0>,\n",
       " <matplotlib.lines.Line2D at 0x7f2c302e31c0>,\n",
       " <matplotlib.lines.Line2D at 0x7f2c302e3280>,\n",
       " <matplotlib.lines.Line2D at 0x7f2c302e3340>,\n",
       " <matplotlib.lines.Line2D at 0x7f2c302e3400>]"
      ]
     },
     "execution_count": 103,
     "metadata": {},
     "output_type": "execute_result"
    },
    {
     "data": {
      "image/png": "[encoded data removed]",
      "text/plain": [
       "<Figure size 432x288 with 1 Axes>"
      ]
     },
     "metadata": {
      "needs_background": "light"
     },
     "output_type": "display_data"
    }
   ],
   "source": [
    "x = np.linspace(-3, 3, 50)\n",
    "loss = lambda x, y: np.abs(x-y) if x*y>=0 else 5*np.abs(x-y)-4*np.abs(y)\n",
    "plt.plot(x, sign_loss(tf.constant(x.reshape(-1, 1), dtype=tf.float32), -2*tf.ones_like(x.reshape(-1, 1), dtype=tf.float32)))"
   ]
  },
  {
   "cell_type": "code",
   "execution_count": 102,
   "metadata": {},
   "outputs": [
    {
     "data": {
      "text/plain": [
       "<tf.Tensor: shape=(50,), dtype=float32, numpy=\n",
       "array([2.1836734, 2.1836734, 2.1836734, 2.1836734, 2.1836734, 2.1836734,\n",
       "       2.1836734, 2.1836734, 2.1836734, 2.1836734, 2.1836734, 2.1836734,\n",
       "       2.1836734, 2.1836734, 2.1836734, 2.1836734, 2.1836734, 2.1836734,\n",
       "       2.1836734, 2.1836734, 2.1836734, 2.1836734, 2.1836734, 2.1836734,\n",
       "       2.1836734, 4.7959185, 4.7959185, 4.7959185, 4.7959185, 4.7959185,\n",
       "       4.7959185, 4.7959185, 4.7959185, 4.7959185, 4.7959185, 4.7959185,\n",
       "       4.7959185, 4.7959185, 4.7959185, 4.7959185, 4.7959185, 4.7959185,\n",
       "       4.7959185, 4.7959185, 4.7959185, 4.7959185, 4.7959185, 4.7959185,\n",
       "       4.7959185, 4.7959185], dtype=float32)>"
      ]
     },
     "execution_count": 102,
     "metadata": {},
     "output_type": "execute_result"
    }
   ],
   "source": [
    "sign_loss(tf.constant(x, dtype=tf.float32), -2*tf.ones_like(x, dtype=tf.float32))"
   ]
  },
  {
   "cell_type": "code",
   "execution_count": null,
   "metadata": {},
   "outputs": [],
   "source": []
  }
 ],
 "metadata": {
  "interpreter": {
   "hash": "95373ab24c5ba6f383f4e8ac38509fb5d707d34106fedf2cc564535c637d881e"
  },
  "kernelspec": {
   "display_name": "Python 3.9.4 64-bit ('carnd-term1': conda)",
   "language": "python",
   "name": "python3"
  },
  "language_info": {
   "codemirror_mode": {
    "name": "ipython",
    "version": 3
   },
   "file_extension": ".py",
   "mimetype": "text/x-python",
   "name": "python",
   "nbconvert_exporter": "python",
   "pygments_lexer": "ipython3",
   "version": "3.9.4"
  },
  "orig_nbformat": 4
 },
 "nbformat": 4,
 "nbformat_minor": 2
}
