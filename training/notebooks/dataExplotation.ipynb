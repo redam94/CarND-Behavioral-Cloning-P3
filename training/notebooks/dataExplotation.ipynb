{
 "cells": [
  {
   "cell_type": "code",
   "execution_count": 2,
   "source": [
    "%load_ext autoreload\n",
    "%autoreload 2\n",
    "import datahelper\n",
    "\n",
    "import numpy as np\n",
    "import tensorflow as tf\n",
    "from tensorflow import keras as kr\n",
    "from sklearn.model_selection import train_test_split, TimeSeriesSplit\n",
    "import cv2\n",
    "import matplotlib.pyplot as plt\n",
    "\n",
    "np.random.seed(4212)"
   ],
   "outputs": [],
   "metadata": {}
  },
  {
   "cell_type": "code",
   "execution_count": 3,
   "source": [
    "DATA_PATH = \"/home/mattr/Desktop/udacity/CarND-Behavioral-Cloning-P3/training/data/\"\n",
    "DRIVING_FOLDERS = {'easy': 'drivingData', 'hard': 'drivingDataHard', 'john': 'johnsDrivingData'}"
   ],
   "outputs": [],
   "metadata": {}
  },
  {
   "cell_type": "markdown",
   "source": [
    "# Data Pre-Processing\n",
    "\n",
    "## Step 1: Load data and clean csv\n",
    "- I recorded some data on my laptop but I'm training the model on my own dl server so I have to change the path names.\n",
    "- Next I'm going to split the data into test and training sets\n",
    "## Step 2: Data Exploration!!\n",
    "- I will load some images from the training set and decide on image processing steps\n",
    "- Find distributions of steering angle, throttle, break, and speed\n",
    "## Step 3: Make a data pipeline\n",
    "- Once I have determined the best pre-processing steps I will implement a pipeline to pre-process all the data\n"
   ],
   "metadata": {}
  },
  {
   "cell_type": "markdown",
   "source": [
    "## Step 1"
   ],
   "metadata": {}
  },
  {
   "cell_type": "code",
   "execution_count": 5,
   "source": [
    "easy_driving_df = datahelper.process.preprocessing.import_driving_log(DATA_PATH+DRIVING_FOLDERS['easy']+'/driving_log.csv', DATA_PATH)\n",
    "hard_driving_df = datahelper.process.preprocessing.import_driving_log(DATA_PATH+DRIVING_FOLDERS['hard']+'/driving_log.csv', DATA_PATH)\n",
    "john_driving_df = datahelper.process.preprocessing.import_driving_log(DATA_PATH+DRIVING_FOLDERS['john']+'/driving_log.csv', DATA_PATH)\n",
    "easy_driving_df.head()"
   ],
   "outputs": [
    {
     "output_type": "execute_result",
     "data": {
      "text/html": [
       "<div>\n",
       "<style scoped>\n",
       "    .dataframe tbody tr th:only-of-type {\n",
       "        vertical-align: middle;\n",
       "    }\n",
       "\n",
       "    .dataframe tbody tr th {\n",
       "        vertical-align: top;\n",
       "    }\n",
       "\n",
       "    .dataframe thead th {\n",
       "        text-align: right;\n",
       "    }\n",
       "</style>\n",
       "<table border=\"1\" class=\"dataframe\">\n",
       "  <thead>\n",
       "    <tr style=\"text-align: right;\">\n",
       "      <th></th>\n",
       "      <th>center_img</th>\n",
       "      <th>left_img</th>\n",
       "      <th>right_img</th>\n",
       "      <th>steering_angle</th>\n",
       "      <th>throttle</th>\n",
       "      <th>brake</th>\n",
       "      <th>speed</th>\n",
       "    </tr>\n",
       "  </thead>\n",
       "  <tbody>\n",
       "    <tr>\n",
       "      <th>0</th>\n",
       "      <td>/home/mattr/Desktop/udacity/CarND-Behavioral-C...</td>\n",
       "      <td>/home/mattr/Desktop/udacity/CarND-Behavioral-C...</td>\n",
       "      <td>/home/mattr/Desktop/udacity/CarND-Behavioral-C...</td>\n",
       "      <td>0.000000</td>\n",
       "      <td>0.0</td>\n",
       "      <td>0.0</td>\n",
       "      <td>25.32430</td>\n",
       "    </tr>\n",
       "    <tr>\n",
       "      <th>1</th>\n",
       "      <td>/home/mattr/Desktop/udacity/CarND-Behavioral-C...</td>\n",
       "      <td>/home/mattr/Desktop/udacity/CarND-Behavioral-C...</td>\n",
       "      <td>/home/mattr/Desktop/udacity/CarND-Behavioral-C...</td>\n",
       "      <td>0.000000</td>\n",
       "      <td>0.0</td>\n",
       "      <td>0.0</td>\n",
       "      <td>25.17072</td>\n",
       "    </tr>\n",
       "    <tr>\n",
       "      <th>2</th>\n",
       "      <td>/home/mattr/Desktop/udacity/CarND-Behavioral-C...</td>\n",
       "      <td>/home/mattr/Desktop/udacity/CarND-Behavioral-C...</td>\n",
       "      <td>/home/mattr/Desktop/udacity/CarND-Behavioral-C...</td>\n",
       "      <td>0.000000</td>\n",
       "      <td>0.0</td>\n",
       "      <td>0.0</td>\n",
       "      <td>24.96740</td>\n",
       "    </tr>\n",
       "    <tr>\n",
       "      <th>3</th>\n",
       "      <td>/home/mattr/Desktop/udacity/CarND-Behavioral-C...</td>\n",
       "      <td>/home/mattr/Desktop/udacity/CarND-Behavioral-C...</td>\n",
       "      <td>/home/mattr/Desktop/udacity/CarND-Behavioral-C...</td>\n",
       "      <td>0.000000</td>\n",
       "      <td>0.0</td>\n",
       "      <td>0.0</td>\n",
       "      <td>24.81597</td>\n",
       "    </tr>\n",
       "    <tr>\n",
       "      <th>4</th>\n",
       "      <td>/home/mattr/Desktop/udacity/CarND-Behavioral-C...</td>\n",
       "      <td>/home/mattr/Desktop/udacity/CarND-Behavioral-C...</td>\n",
       "      <td>/home/mattr/Desktop/udacity/CarND-Behavioral-C...</td>\n",
       "      <td>-0.112782</td>\n",
       "      <td>0.0</td>\n",
       "      <td>0.0</td>\n",
       "      <td>24.66253</td>\n",
       "    </tr>\n",
       "  </tbody>\n",
       "</table>\n",
       "</div>"
      ],
      "text/plain": [
       "                                          center_img  \\\n",
       "0  /home/mattr/Desktop/udacity/CarND-Behavioral-C...   \n",
       "1  /home/mattr/Desktop/udacity/CarND-Behavioral-C...   \n",
       "2  /home/mattr/Desktop/udacity/CarND-Behavioral-C...   \n",
       "3  /home/mattr/Desktop/udacity/CarND-Behavioral-C...   \n",
       "4  /home/mattr/Desktop/udacity/CarND-Behavioral-C...   \n",
       "\n",
       "                                            left_img  \\\n",
       "0  /home/mattr/Desktop/udacity/CarND-Behavioral-C...   \n",
       "1  /home/mattr/Desktop/udacity/CarND-Behavioral-C...   \n",
       "2  /home/mattr/Desktop/udacity/CarND-Behavioral-C...   \n",
       "3  /home/mattr/Desktop/udacity/CarND-Behavioral-C...   \n",
       "4  /home/mattr/Desktop/udacity/CarND-Behavioral-C...   \n",
       "\n",
       "                                           right_img  steering_angle  \\\n",
       "0  /home/mattr/Desktop/udacity/CarND-Behavioral-C...        0.000000   \n",
       "1  /home/mattr/Desktop/udacity/CarND-Behavioral-C...        0.000000   \n",
       "2  /home/mattr/Desktop/udacity/CarND-Behavioral-C...        0.000000   \n",
       "3  /home/mattr/Desktop/udacity/CarND-Behavioral-C...        0.000000   \n",
       "4  /home/mattr/Desktop/udacity/CarND-Behavioral-C...       -0.112782   \n",
       "\n",
       "   throttle  brake     speed  \n",
       "0       0.0    0.0  25.32430  \n",
       "1       0.0    0.0  25.17072  \n",
       "2       0.0    0.0  24.96740  \n",
       "3       0.0    0.0  24.81597  \n",
       "4       0.0    0.0  24.66253  "
      ]
     },
     "metadata": {},
     "execution_count": 5
    }
   ],
   "metadata": {}
  },
  {
   "cell_type": "code",
   "execution_count": 8,
   "source": [
    "easy_driving_df['center_img'][0]"
   ],
   "outputs": [
    {
     "output_type": "execute_result",
     "data": {
      "text/plain": [
       "'~/Desktop/udacity/CarND-Behavioral-Cloning-P3/training/data/drivingData/IMG/center_2021_09_29_12_10_46_429.jpg'"
      ]
     },
     "metadata": {},
     "execution_count": 8
    }
   ],
   "metadata": {}
  },
  {
   "cell_type": "code",
   "execution_count": 6,
   "source": [
    "easy_records = [datahelper.datasets.DrivingRecord(record) for record in datahelper.process.preprocessing.find_records(easy_driving_df)]\n",
    "hard_records = [datahelper.datasets.DrivingRecord(record) for record in datahelper.process.preprocessing.find_records(hard_driving_df)]\n",
    "john_records = [datahelper.datasets.DrivingRecord(record) for record in datahelper.process.preprocessing.find_records(john_driving_df)]"
   ],
   "outputs": [],
   "metadata": {}
  },
  {
   "cell_type": "code",
   "execution_count": 10,
   "source": [
    "print(f\"Number of easy records: {len(easy_records)}\\nNumber of hard records: {len(hard_records)}\\nNumber of john records: {len(john_records)}\")"
   ],
   "outputs": [
    {
     "output_type": "stream",
     "name": "stdout",
     "text": [
      "Number of easy records: 4\n",
      "Number of hard records: 5\n",
      "Number of john records: 9\n"
     ]
    }
   ],
   "metadata": {}
  },
  {
   "cell_type": "code",
   "execution_count": 12,
   "source": [
    "s = 0\n",
    "for record in easy_records:\n",
    "    s += len(record)\n",
    "print(\"Average length of easy_records\", s/4)\n",
    "s = 0\n",
    "for record in hard_records:\n",
    "    s += len(record)\n",
    "print(\"Average length of hard_records\", s/5)\n",
    "s = 0\n",
    "for record in john_records:\n",
    "    s += len(record)\n",
    "print(\"Average length of john_records\", s/9)"
   ],
   "outputs": [
    {
     "output_type": "stream",
     "name": "stdout",
     "text": [
      "Average length of easy_records 981.5\n",
      "Average length of hard_records 1734.2\n",
      "Average length of john_records 812.4444444444445\n"
     ]
    }
   ],
   "metadata": {}
  },
  {
   "cell_type": "code",
   "execution_count": null,
   "source": [],
   "outputs": [],
   "metadata": {}
  }
 ],
 "metadata": {
  "orig_nbformat": 4,
  "language_info": {
   "name": "python",
   "version": "3.9.4",
   "mimetype": "text/x-python",
   "codemirror_mode": {
    "name": "ipython",
    "version": 3
   },
   "pygments_lexer": "ipython3",
   "nbconvert_exporter": "python",
   "file_extension": ".py"
  },
  "kernelspec": {
   "name": "python3",
   "display_name": "Python 3.9.4 64-bit ('carnd-term1': conda)"
  },
  "interpreter": {
   "hash": "8eec311277fe2845a4c533e4e24092c79ce6ec8c246db6edc6c07e67a037b43f"
  }
 },
 "nbformat": 4,
 "nbformat_minor": 2
}