{
 "cells": [
  {
   "cell_type": "code",
   "execution_count": 1,
   "metadata": {},
   "outputs": [],
   "source": [
    "import numpy as np"
   ]
  },
  {
   "cell_type": "code",
   "execution_count": 6,
   "metadata": {},
   "outputs": [],
   "source": [
    "def newton_method(x_0, f, f_prime, max_steps = 500, epsilon = 1e-5):\n",
    "    x = x_0\n",
    "    for _ in range(max_steps):\n",
    "        x = x - f(x)/f_prime(x)\n",
    "        if np.abs(f(x)) <= epsilon:\n",
    "            break\n",
    "        \n",
    "    else:\n",
    "        print(f\"Failed to converge {np.abs(f(x))}\")\n",
    "    return x"
   ]
  },
  {
   "cell_type": "code",
   "execution_count": 17,
   "metadata": {},
   "outputs": [
    {
     "data": {
      "text/plain": [
       "1.0"
      ]
     },
     "execution_count": 17,
     "metadata": {},
     "output_type": "execute_result"
    }
   ],
   "source": [
    "newton_method(0, lambda x: (x-1)*(x+2)*(x-3), lambda x: 3*x**2-4*x-5, max_steps=100, epsilon=1e-10)"
   ]
  },
  {
   "cell_type": "code",
   "execution_count": null,
   "metadata": {},
   "outputs": [],
   "source": [
    "(x**2 + x - 2)*(x - 3) = x**3 + x**2 - 2*x - 3*x**2 - 3*x + 6 = x**3 - 2*x**2 - 5*x + 6"
   ]
  }
 ],
 "metadata": {
  "interpreter": {
   "hash": "95373ab24c5ba6f383f4e8ac38509fb5d707d34106fedf2cc564535c637d881e"
  },
  "kernelspec": {
   "display_name": "Python 3.9.4 64-bit ('carnd-term1': conda)",
   "name": "python3"
  },
  "language_info": {
   "codemirror_mode": {
    "name": "ipython",
    "version": 3
   },
   "file_extension": ".py",
   "mimetype": "text/x-python",
   "name": "python",
   "nbconvert_exporter": "python",
   "pygments_lexer": "ipython3",
   "version": "3.9.4"
  },
  "orig_nbformat": 4
 },
 "nbformat": 4,
 "nbformat_minor": 2
}
