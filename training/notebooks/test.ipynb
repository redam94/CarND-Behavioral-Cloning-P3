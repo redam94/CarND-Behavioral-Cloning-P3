{
 "cells": [
  {
   "cell_type": "code",
   "execution_count": 2,
   "metadata": {},
   "outputs": [],
   "source": [
    "import numpy as np"
   ]
  },
  {
   "cell_type": "code",
   "execution_count": 3,
   "metadata": {},
   "outputs": [],
   "source": [
    "def newton_method(x_0, f, f_prime, max_steps = 500, epsilon = 1e-5):\n",
    "    x = x_0\n",
    "    for _ in range(max_steps):\n",
    "        x = x - f(x)/f_prime(x)\n",
    "        if np.abs(f(x)) <= epsilon:\n",
    "            break\n",
    "        \n",
    "    else:\n",
    "        print(f\"Failed to converge {np.abs(f(x))}\")\n",
    "    return x"
   ]
  },
  {
   "cell_type": "code",
   "execution_count": 6,
   "metadata": {},
   "outputs": [
    {
     "name": "stdout",
     "output_type": "stream",
     "text": [
      "Failed to converge 0.00011195906401376262\n"
     ]
    },
    {
     "data": {
      "text/plain": [
       "(1.0105729194119393+0.0004152578986609397j)"
      ]
     },
     "execution_count": 6,
     "metadata": {},
     "output_type": "execute_result"
    }
   ],
   "source": [
    "newton_method(1.0j, lambda x: (x-1)**2, lambda x: 2*(x-1)+1, max_steps=100, epsilon=1e-10)"
   ]
  },
  {
   "cell_type": "code",
   "execution_count": 7,
   "metadata": {},
   "outputs": [],
   "source": [
    "import tensorflow as tf"
   ]
  },
  {
   "cell_type": "code",
   "execution_count": 9,
   "metadata": {},
   "outputs": [
    {
     "data": {
      "text/plain": [
       "keras.optimizer_v2.optimizer_v2.OptimizerV2"
      ]
     },
     "execution_count": 9,
     "metadata": {},
     "output_type": "execute_result"
    }
   ],
   "source": [
    "tf.optimizers.Optimizer"
   ]
  },
  {
   "cell_type": "code",
   "execution_count": null,
   "metadata": {},
   "outputs": [],
   "source": []
  }
 ],
 "metadata": {
  "interpreter": {
   "hash": "95373ab24c5ba6f383f4e8ac38509fb5d707d34106fedf2cc564535c637d881e"
  },
  "kernelspec": {
   "display_name": "Python 3.9.4 64-bit ('carnd-term1': conda)",
   "name": "python3"
  },
  "language_info": {
   "codemirror_mode": {
    "name": "ipython",
    "version": 3
   },
   "file_extension": ".py",
   "mimetype": "text/x-python",
   "name": "python",
   "nbconvert_exporter": "python",
   "pygments_lexer": "ipython3",
   "version": "3.9.4"
  },
  "orig_nbformat": 4
 },
 "nbformat": 4,
 "nbformat_minor": 2
}
